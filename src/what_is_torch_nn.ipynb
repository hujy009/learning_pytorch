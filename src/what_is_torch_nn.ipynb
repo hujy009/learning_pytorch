{
 "cells": [
  {
   "cell_type": "markdown",
   "id": "edf69079",
   "metadata": {},
   "source": [
    "* https://pytorch.org/tutorials/beginner/nn_tutorial.html"
   ]
  },
  {
   "cell_type": "code",
   "execution_count": 1,
   "id": "f430f38b",
   "metadata": {},
   "outputs": [],
   "source": [
    "import numpy as np\n",
    "import math\n",
    "import matplotlib.pyplot as plt\n",
    "import torch\n",
    "from matplotlib import pyplot\n",
    "import numpy as np"
   ]
  },
  {
   "cell_type": "markdown",
   "id": "ee56a95b",
   "metadata": {},
   "source": [
    "## 1.0 MNIST data setup"
   ]
  },
  {
   "cell_type": "code",
   "execution_count": 2,
   "id": "fb79ed40",
   "metadata": {},
   "outputs": [],
   "source": [
    "from pathlib import Path\n",
    "import requests\n",
    "import pickle\n",
    "import gzip"
   ]
  },
  {
   "cell_type": "code",
   "execution_count": 10,
   "id": "f7cde28f",
   "metadata": {},
   "outputs": [],
   "source": [
    "DATA_PATH = Path(\"../data\")\n",
    "PATH = DATA_PATH / \"mnist\""
   ]
  },
  {
   "cell_type": "code",
   "execution_count": 11,
   "id": "5037ce98",
   "metadata": {},
   "outputs": [
    {
     "data": {
      "text/plain": [
       "'..\\\\data\\\\mnist'"
      ]
     },
     "execution_count": 11,
     "metadata": {},
     "output_type": "execute_result"
    }
   ],
   "source": [
    "str(PATH)"
   ]
  },
  {
   "cell_type": "code",
   "execution_count": 12,
   "id": "59b81cec",
   "metadata": {},
   "outputs": [
    {
     "data": {
      "text/plain": [
       "True"
      ]
     },
     "execution_count": 12,
     "metadata": {},
     "output_type": "execute_result"
    }
   ],
   "source": [
    "PATH.is_dir()"
   ]
  },
  {
   "cell_type": "code",
   "execution_count": 13,
   "id": "f5813b5e",
   "metadata": {},
   "outputs": [],
   "source": [
    "PATH.mkdir(parents=True, exist_ok=True)"
   ]
  },
  {
   "cell_type": "code",
   "execution_count": 14,
   "id": "86642e42",
   "metadata": {},
   "outputs": [],
   "source": [
    "URL = \"https://github.com/pytorch/tutorials/raw/master/_static/\"\n",
    "FILENAME = \"mnist.pkl.gz\""
   ]
  },
  {
   "cell_type": "code",
   "execution_count": 15,
   "id": "3ae929b7",
   "metadata": {},
   "outputs": [],
   "source": [
    "if not (PATH / FILENAME).exists():\n",
    "    content = requests.get(URL + FILENAME).content\n",
    "    (PATH / FILENAME).open(\"wb\").write(content)"
   ]
  },
  {
   "cell_type": "code",
   "execution_count": 16,
   "id": "286c0aa9",
   "metadata": {},
   "outputs": [],
   "source": [
    "with gzip.open((PATH / FILENAME).as_posix(), \"rb\") as f:\n",
    "        ((x_train, y_train), (x_valid, y_valid), _) = pickle.load(f, encoding=\"latin-1\")"
   ]
  },
  {
   "cell_type": "code",
   "execution_count": 12,
   "id": "9e7a4a81",
   "metadata": {},
   "outputs": [
    {
     "name": "stdout",
     "output_type": "stream",
     "text": [
      "(50000, 784)\n"
     ]
    },
    {
     "data": {
      "image/png": "[encoded data removed]",
      "text/plain": [
       "<Figure size 432x288 with 1 Axes>"
      ]
     },
     "metadata": {
      "needs_background": "light"
     },
     "output_type": "display_data"
    }
   ],
   "source": [
    "pyplot.imshow(x_train[0].reshape((28, 28)), cmap=\"gray\")\n",
    "print(x_train.shape)"
   ]
  },
  {
   "cell_type": "code",
   "execution_count": 17,
   "id": "24ebd8d7",
   "metadata": {},
   "outputs": [
    {
     "name": "stdout",
     "output_type": "stream",
     "text": [
      "tensor([[0., 0., 0.,  ..., 0., 0., 0.],\n",
      "        [0., 0., 0.,  ..., 0., 0., 0.],\n",
      "        [0., 0., 0.,  ..., 0., 0., 0.],\n",
      "        ...,\n",
      "        [0., 0., 0.,  ..., 0., 0., 0.],\n",
      "        [0., 0., 0.,  ..., 0., 0., 0.],\n",
      "        [0., 0., 0.,  ..., 0., 0., 0.]]) tensor([5, 0, 4,  ..., 8, 4, 8])\n",
      "torch.Size([50000, 784])\n",
      "tensor(0) tensor(9)\n"
     ]
    }
   ],
   "source": [
    "x_train, y_train, x_valid, y_valid = map(\n",
    "    torch.tensor, (x_train, y_train, x_valid, y_valid)\n",
    ")\n",
    "n, c = x_train.shape\n",
    "print(x_train, y_train)\n",
    "print(x_train.shape)\n",
    "print(y_train.min(), y_train.max())"
   ]
  },
  {
   "cell_type": "code",
   "execution_count": 22,
   "id": "b7c56b4e",
   "metadata": {},
   "outputs": [],
   "source": [
    "weights = torch.randn(784, 10) / math.sqrt(784)\n",
    "weights.requires_grad_()\n",
    "bias = torch.zeros(10, requires_grad=True)"
   ]
  },
  {
   "cell_type": "code",
   "execution_count": 23,
   "id": "43c7be1f",
   "metadata": {},
   "outputs": [],
   "source": [
    "def log_softmax(x):\n",
    "    return x - x.exp().sum(-1).log().unsqueeze(-1)\n",
    "\n",
    "def model(xb):\n",
    "    return log_softmax(xb @ weights + bias)"
   ]
  },
  {
   "cell_type": "code",
   "execution_count": 18,
   "id": "831a409c",
   "metadata": {},
   "outputs": [],
   "source": [
    "def nll(input, target):\n",
    "    return -input[range(target.shape[0]), target].mean()\n",
    "\n",
    "loss_func = nll"
   ]
  },
  {
   "cell_type": "code",
   "execution_count": 20,
   "id": "e24d49ef",
   "metadata": {},
   "outputs": [],
   "source": [
    "bs = 64  # batch size"
   ]
  },
  {
   "cell_type": "code",
   "execution_count": 24,
   "id": "efe6bdf4",
   "metadata": {},
   "outputs": [
    {
     "name": "stdout",
     "output_type": "stream",
     "text": [
      "tensor([-2.2999, -2.4753, -1.8542, -2.4766, -2.3950, -2.5335, -2.3804, -1.8193,\n",
      "        -2.3786, -2.8628], grad_fn=<SelectBackward>) torch.Size([64, 10])\n"
     ]
    }
   ],
   "source": [
    "xb = x_train[0:bs]  # a mini-batch from x\n",
    "preds = model(xb)  # predictions\n",
    "preds[0], preds.shape\n",
    "print(preds[0], preds.shape)"
   ]
  },
  {
   "cell_type": "code",
   "execution_count": 25,
   "id": "09a6f9a4",
   "metadata": {},
   "outputs": [
    {
     "name": "stdout",
     "output_type": "stream",
     "text": [
      "tensor(2.3445, grad_fn=<NegBackward>)\n"
     ]
    }
   ],
   "source": [
    "yb = y_train[0:bs]\n",
    "print(loss_func(preds, yb))"
   ]
  },
  {
   "cell_type": "code",
   "execution_count": 27,
   "id": "cac2fa54",
   "metadata": {},
   "outputs": [
    {
     "name": "stdout",
     "output_type": "stream",
     "text": [
      "torch.Size([64, 10]) torch.Size([64])\n"
     ]
    }
   ],
   "source": [
    "print(preds.shape, yb.shape)"
   ]
  },
  {
   "cell_type": "code",
   "execution_count": 28,
   "id": "a1a61a78",
   "metadata": {},
   "outputs": [
    {
     "data": {
      "text/plain": [
       "64"
      ]
     },
     "execution_count": 28,
     "metadata": {},
     "output_type": "execute_result"
    }
   ],
   "source": [
    "yb.shape[0]"
   ]
  },
  {
   "cell_type": "code",
   "execution_count": 29,
   "id": "75c224e9",
   "metadata": {},
   "outputs": [],
   "source": [
    "def nll0(input, target):\n",
    "    return -input[range(target.shape[0]), target]"
   ]
  },
  {
   "cell_type": "code",
   "execution_count": 30,
   "id": "c791d4cc",
   "metadata": {},
   "outputs": [
    {
     "data": {
      "text/plain": [
       "tensor([2.5335, 2.2313, 2.3398, 2.6907, 2.4980, 1.8408, 2.6608, 2.4245, 2.2963,\n",
       "        2.4072, 2.4399, 2.3242, 2.0592, 2.5686, 2.3591, 2.0667, 2.1178, 2.7916,\n",
       "        2.2772, 2.4091, 2.6619, 2.2629, 2.8601, 2.6727, 2.2451, 1.9597, 2.4855,\n",
       "        2.2757, 2.3312, 2.0162, 2.1809, 2.1426, 2.1234, 2.2202, 2.2564, 2.4575,\n",
       "        2.1644, 1.9704, 2.2832, 2.0592, 2.3677, 2.9126, 2.1298, 2.6076, 2.3488,\n",
       "        3.0314, 2.7281, 2.6804, 2.3512, 2.3212, 2.3363, 1.7089, 2.4574, 2.1917,\n",
       "        2.3436, 2.6273, 1.7476, 2.9926, 2.4646, 2.6594, 2.0413, 2.1734, 1.9000,\n",
       "        1.9575], grad_fn=<NegBackward>)"
      ]
     },
     "execution_count": 30,
     "metadata": {},
     "output_type": "execute_result"
    }
   ],
   "source": [
    "nll0(preds, yb)"
   ]
  },
  {
   "cell_type": "code",
   "execution_count": 32,
   "id": "26372ac7",
   "metadata": {},
   "outputs": [
    {
     "data": {
      "text/plain": [
       "tensor([[-2.2999, -2.4753, -1.8542, -2.4766, -2.3950, -2.5335, -2.3804, -1.8193,\n",
       "         -2.3786, -2.8628],\n",
       "        [-2.2313, -2.4773, -2.3618, -2.3967, -2.2264, -2.5247, -2.3853, -1.9092,\n",
       "         -2.1067, -2.6107],\n",
       "        [-2.4653, -2.6820, -2.3363, -1.8326, -2.3398, -2.6823, -1.9454, -2.2646,\n",
       "         -2.4227, -2.4116],\n",
       "        [-2.5020, -2.6907, -2.1751, -2.4685, -2.1923, -2.5407, -2.6100, -1.5605,\n",
       "         -2.5601, -2.2967],\n",
       "        [-2.3396, -2.2288, -1.8638, -2.3982, -2.4125, -2.7391, -1.8789, -2.2781,\n",
       "         -2.8421, -2.4980],\n",
       "        [-2.1377, -2.3094, -1.8408, -2.2693, -2.2077, -2.5230, -2.3721, -2.2794,\n",
       "         -2.4646, -2.9991],\n",
       "        [-2.4730, -2.6608, -1.7171, -2.6192, -2.4038, -2.3865, -2.5034, -2.2143,\n",
       "         -2.5619, -1.9462],\n",
       "        [-2.1118, -2.8672, -1.8519, -2.4245, -2.3206, -2.8358, -2.2641, -1.9139,\n",
       "         -2.4560, -2.4942],\n",
       "        [-2.3479, -2.2963, -2.0832, -2.5828, -2.3011, -2.3331, -2.6167, -2.1132,\n",
       "         -2.3462, -2.1461],\n",
       "        [-2.8149, -2.6574, -1.8744, -2.0575, -2.4072, -2.7367, -2.0773, -2.2750,\n",
       "         -2.1965, -2.3577],\n",
       "        [-2.4365, -2.8676, -1.7268, -2.4399, -2.6193, -2.5745, -2.1262, -2.1307,\n",
       "         -2.5358, -2.0843],\n",
       "        [-2.3608, -2.5344, -2.4599, -2.3646, -2.3550, -2.3242, -2.2415, -2.2049,\n",
       "         -2.1575, -2.1040],\n",
       "        [-2.5725, -2.6669, -1.8758, -2.0592, -2.3081, -2.9846, -2.2689, -1.9624,\n",
       "         -2.5201, -2.3126],\n",
       "        [-2.2006, -2.2233, -1.6640, -2.8853, -2.5128, -2.5660, -2.5686, -2.1277,\n",
       "         -2.2698, -2.5404],\n",
       "        [-2.3830, -2.3591, -2.0251, -2.6412, -2.3084, -2.3652, -2.5536, -1.8605,\n",
       "         -2.4712, -2.3153],\n",
       "        [-2.1611, -2.7170, -2.1195, -2.0205, -2.1553, -3.0695, -1.9320, -2.0667,\n",
       "         -2.8971, -2.5630],\n",
       "        [-1.9160, -2.4823, -2.1178, -2.4710, -2.5085, -2.3282, -2.0468, -2.2684,\n",
       "         -2.4964, -2.6508],\n",
       "        [-2.5989, -2.4842, -2.0369, -2.1811, -2.3378, -2.9024, -2.2808, -1.6680,\n",
       "         -2.7916, -2.3506],\n",
       "        [-2.1702, -2.3616, -2.1981, -2.5522, -2.4432, -2.2054, -2.2772, -2.1211,\n",
       "         -2.3788, -2.4032],\n",
       "        [-2.4376, -2.6768, -1.5844, -2.2634, -2.4617, -2.8564, -2.4199, -1.9761,\n",
       "         -2.5959, -2.4091],\n",
       "        [-2.4108, -2.3898, -2.0824, -2.2851, -2.6619, -2.7851, -1.5262, -2.0372,\n",
       "         -2.9938, -2.7674],\n",
       "        [-2.2629, -2.6683, -2.2929, -2.3531, -2.3282, -2.6739, -2.0828, -1.8372,\n",
       "         -2.2248, -2.6290],\n",
       "        [-2.2657, -2.5935, -1.9634, -2.3073, -2.1715, -2.6004, -2.2145, -1.8582,\n",
       "         -2.6467, -2.8601],\n",
       "        [-2.4528, -2.6727, -2.0484, -2.5077, -2.2522, -2.4993, -2.5609, -1.6928,\n",
       "         -2.5789, -2.2065],\n",
       "        [-2.4778, -2.2451, -1.6313, -2.6212, -2.3134, -2.6404, -2.4541, -2.0572,\n",
       "         -2.4772, -2.6067],\n",
       "        [-2.4406, -2.3665, -1.9597, -2.6161, -2.6903, -2.8430, -2.2076, -1.6047,\n",
       "         -2.7479, -2.2633],\n",
       "        [-2.2449, -2.4130, -2.1840, -2.3313, -2.4855, -2.2452, -1.8902, -2.3659,\n",
       "         -2.5600, -2.4847],\n",
       "        [-2.0832, -2.9059, -1.8229, -2.2757, -2.3071, -3.0482, -2.6021, -1.7112,\n",
       "         -2.6922, -2.4419],\n",
       "        [-2.1727, -2.4711, -2.3312, -2.2363, -2.1029, -2.7744, -2.4357, -1.6354,\n",
       "         -2.7906, -2.6690],\n",
       "        [-2.3488, -2.6948, -2.0198, -2.4940, -2.3600, -2.2302, -2.3387, -2.0162,\n",
       "         -2.7055, -2.0930],\n",
       "        [-2.6987, -2.2387, -2.1454, -2.1809, -2.5016, -2.6131, -2.2547, -1.8067,\n",
       "         -2.4966, -2.4145],\n",
       "        [-2.3860, -2.8493, -2.1040, -2.3280, -2.1511, -2.8882, -2.3860, -1.8484,\n",
       "         -2.1426, -2.3882],\n",
       "        [-2.0430, -2.1288, -2.1759, -2.4221, -2.2227, -2.7378, -2.1234, -2.0754,\n",
       "         -2.7401, -2.7118],\n",
       "        [-2.3996, -2.5861, -2.0217, -2.1242, -2.1244, -2.9542, -2.3444, -1.9895,\n",
       "         -2.6724, -2.2202],\n",
       "        [-2.2564, -2.8542, -2.2704, -2.4779, -2.4887, -2.8545, -1.8668, -1.6619,\n",
       "         -2.2719, -2.7749],\n",
       "        [-2.4867, -2.4270, -2.1060, -2.2432, -2.2729, -2.4575, -2.7333, -2.2519,\n",
       "         -1.9246, -2.3447],\n",
       "        [-2.6849, -2.3036, -1.5580, -2.6110, -2.5262, -2.6363, -2.1644, -2.0161,\n",
       "         -2.5348, -2.6739],\n",
       "        [-1.9704, -2.7655, -2.3458, -2.5302, -2.3024, -2.8596, -2.1389, -1.8069,\n",
       "         -2.1355, -2.7363],\n",
       "        [-2.3237, -2.4082, -2.1312, -2.2906, -2.3028, -2.2486, -2.1536, -2.2832,\n",
       "         -2.4171, -2.5320],\n",
       "        [-2.0699, -2.2202, -2.0114, -2.5021, -2.4630, -2.6167, -2.0592, -2.0338,\n",
       "         -2.5626, -2.8866],\n",
       "        [-2.3349, -2.3677, -2.1265, -2.3880, -2.3776, -2.5614, -2.3546, -2.0677,\n",
       "         -2.1800, -2.3644],\n",
       "        [-2.4026, -2.8366, -1.9835, -2.3180, -2.4809, -2.6104, -2.1091, -1.8225,\n",
       "         -2.9126, -2.1173],\n",
       "        [-2.2153, -2.4781, -2.1366, -2.1994, -2.3655, -2.5545, -2.1024, -2.1298,\n",
       "         -2.4260, -2.5638],\n",
       "        [-2.1547, -2.4054, -1.8855, -2.5018, -2.3980, -2.9004, -1.9428, -2.0110,\n",
       "         -2.7585, -2.6076],\n",
       "        [-2.4652, -2.3390, -1.9143, -2.3488, -2.4998, -2.6755, -2.1922, -2.2408,\n",
       "         -2.1838, -2.3644],\n",
       "        [-2.2072, -2.5632, -1.9410, -2.1572, -2.6723, -2.7783, -1.5467, -2.1429,\n",
       "         -3.1242, -3.0314],\n",
       "        [-2.3484, -2.5613, -2.1469, -2.3492, -2.1391, -2.1474, -2.2400, -2.0843,\n",
       "         -2.7281, -2.4740],\n",
       "        [-2.3375, -2.4377, -2.3079, -2.2342, -2.3345, -2.6804, -2.4443, -1.9289,\n",
       "         -1.9246, -2.7166],\n",
       "        [-2.3685, -2.4422, -1.8337, -2.4608, -2.4676, -2.5336, -2.0381, -2.2931,\n",
       "         -2.4821, -2.3512],\n",
       "        [-2.1004, -2.9282, -1.8131, -2.3212, -2.3535, -3.0136, -2.2187, -2.0023,\n",
       "         -2.5684, -2.3205],\n",
       "        [-2.3214, -2.6915, -2.2906, -2.3363, -2.4716, -2.3791, -2.2674, -2.1576,\n",
       "         -2.3161, -1.9571],\n",
       "        [-1.7089, -2.5933, -2.3824, -2.4533, -2.1367, -2.5995, -2.3512, -2.1651,\n",
       "         -2.2973, -2.7655],\n",
       "        [-1.8161, -2.4137, -2.3013, -2.3871, -2.2112, -2.3853, -2.1034, -2.4574,\n",
       "         -2.5270, -2.7087],\n",
       "        [-2.4412, -2.6939, -1.9464, -2.2430, -2.1917, -2.6408, -2.3157, -2.1394,\n",
       "         -2.3105, -2.3255],\n",
       "        [-2.2289, -2.4372, -2.2226, -2.5477, -2.3528, -2.2747, -1.8123, -2.5618,\n",
       "         -2.4767, -2.3436],\n",
       "        [-2.2365, -2.7861, -2.2500, -2.3575, -2.3892, -2.4546, -2.1426, -1.7930,\n",
       "         -2.6273, -2.3250],\n",
       "        [-1.7476, -2.2582, -2.0845, -2.4842, -2.2808, -2.6028, -2.5087, -2.2665,\n",
       "         -2.5182, -2.6370],\n",
       "        [-2.2736, -2.5133, -1.6515, -2.1267, -2.5006, -2.7210, -1.8216, -2.2980,\n",
       "         -3.1047, -2.9926],\n",
       "        [-2.2437, -2.7690, -1.7637, -2.5207, -2.4646, -2.8228, -1.4510, -2.6332,\n",
       "         -2.6631, -2.8303],\n",
       "        [-2.6056, -2.6594, -2.0246, -2.4505, -2.2928, -2.4343, -2.3812, -1.7404,\n",
       "         -2.3622, -2.4406],\n",
       "        [-2.2223, -2.4546, -2.0287, -2.4164, -2.0413, -2.7065, -2.4419, -2.3444,\n",
       "         -1.9164, -2.8414],\n",
       "        [-2.4937, -2.6093, -1.9328, -2.3138, -2.1734, -2.5186, -2.0727, -1.9981,\n",
       "         -2.7456, -2.5236],\n",
       "        [-2.4438, -2.5986, -2.0137, -2.4701, -2.4344, -2.4409, -1.9000, -2.0215,\n",
       "         -2.2253, -2.8840],\n",
       "        [-1.9575, -2.7600, -2.3312, -2.4248, -2.1900, -2.6573, -2.1542, -2.0647,\n",
       "         -2.3908, -2.3714]], grad_fn=<SubBackward0>)"
      ]
     },
     "execution_count": 32,
     "metadata": {},
     "output_type": "execute_result"
    }
   ],
   "source": [
    "preds"
   ]
  },
  {
   "cell_type": "code",
   "execution_count": null,
   "id": "bd7e847f",
   "metadata": {},
   "outputs": [],
   "source": []
  }
 ],
 "metadata": {
  "kernelspec": {
   "display_name": "Python 3",
   "language": "python",
   "name": "python3"
  },
  "language_info": {
   "codemirror_mode": {
    "name": "ipython",
    "version": 3
   },
   "file_extension": ".py",
   "mimetype": "text/x-python",
   "name": "python",
   "nbconvert_exporter": "python",
   "pygments_lexer": "ipython3",
   "version": "3.9.4"
  }
 },
 "nbformat": 4,
 "nbformat_minor": 5
}
